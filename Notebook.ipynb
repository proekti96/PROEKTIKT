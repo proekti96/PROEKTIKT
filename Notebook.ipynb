{
 "cells": [
  {
   "cell_type": "markdown",
   "metadata": {},
   "source": [
    "### B1 inhomogeneity correction of RARE MRI with transceive surface radiofrequency probes"
   ]
  },
  {
   "cell_type": "markdown",
   "metadata": {},
   "source": [
    "$$ Description: $$"
   ]
  },
  {
   "cell_type": "markdown",
   "metadata": {},
   "source": [
    "&emsp;&emsp;&emsp;&emsp;The use of surface radiofrequency (RF) coils is common practice to boost sensitivity in (pre)clinical MRI. When B1 rotates near Larmour frequency it is synchronized with the precessing sins that compromise M. Result is a resonance condition with energy exchange and tipping of M into transverse plane. An empirical method based on a model and a hybrid combination of both has been developed. All three methods were applied and validated in test phantoms and mouse brains, in vivo and ex vivo. As with all MRI techniques, RARE has advantages and disadvantages over conventional gradient echo imaging. The most obvious advantage is that the image may be acquired faster using RARE; in the most extreme case it is possible to collect an entire data set from a single excitation. A further advantage is that by using spin echoes these sequences are very robust with regard to magnetic field inhomogeneities. Even so, this modulation can cause artefacts in the images obtained. Commonly this manifests as blurring in the phase-encode direction. Furthermore, when there are gradient and sequence timing imperfections, phase errors can creep into the echo train. The artefacts resulting from this are much more severe, but can be corrected for using post-processing. This approach is applicable to other MR techniques for which no analytical SI exists."
   ]
  },
  {
   "cell_type": "markdown",
   "metadata": {},
   "source": [
    " <font color='red'>FORMULAS :</font>"
   ]
  },
  {
   "cell_type": "markdown",
   "metadata": {},
   "source": [
    "$$ FA=\\gamma B_1^+ t $$"
   ]
  },
  {
   "cell_type": "code",
   "execution_count": 1,
   "metadata": {},
   "outputs": [
    {
     "ename": "SyntaxError",
     "evalue": "invalid syntax (<ipython-input-1-1061a7914233>, line 1)",
     "output_type": "error",
     "traceback": [
      "\u001b[0;36m  File \u001b[0;32m\"<ipython-input-1-1061a7914233>\"\u001b[0;36m, line \u001b[0;32m1\u001b[0m\n\u001b[0;31m    [picture1.png] (attachment:picture1.png)\u001b[0m\n\u001b[0m                              ^\u001b[0m\n\u001b[0;31mSyntaxError\u001b[0m\u001b[0;31m:\u001b[0m invalid syntax\n"
     ]
    }
   ],
   "source": [
    "[picture1.jpg] (attachment:picture1.jpg)"
   ]
  },
  {
   "cell_type": "markdown",
   "metadata": {},
   "source": [
    "$$ References: $$"
   ]
  },
  {
   "cell_type": "markdown",
   "metadata": {},
   "source": [
    "[1] P. R. Delgado, A. Kuehne, J. S. Periquito, J. M. Millward,\n",
    "A. Pohlmann, S. Waiczies, T. Niendorf. (2020, April). “B1 inhomogeneity correction of RARE MRI with transceive surface radiofrequency probes.” Wiley Online Library - Magn Reson Med [Online]. 2020;84:2684–2701, 18 pages. Available: https://doi.org/10.1002/mrm.28307"
   ]
  }
 ],
 "metadata": {
  "kernelspec": {
   "display_name": "Python 3",
   "language": "python",
   "name": "python3"
  },
  "language_info": {
   "codemirror_mode": {
    "name": "ipython",
    "version": 3
   },
   "file_extension": ".py",
   "mimetype": "text/x-python",
   "name": "python",
   "nbconvert_exporter": "python",
   "pygments_lexer": "ipython3",
   "version": "3.7.8"
  }
 },
 "nbformat": 4,
 "nbformat_minor": 4
}
